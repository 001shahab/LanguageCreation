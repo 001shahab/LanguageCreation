{
 "cells": [
  {
   "cell_type": "code",
   "execution_count": null,
   "metadata": {},
   "outputs": [],
   "source": [
    "# %pip install openai\n",
    "# %pip install Python-dotenv"
   ]
  },
  {
   "cell_type": "code",
   "execution_count": null,
   "metadata": {},
   "outputs": [],
   "source": [
    "from dotenv import load_dotenv\n",
    "from IPython.display import Markdown\n",
    "import os\n",
    "from openai import OpenAI\n",
    "from pydub.playback import play as play_audio_pydub\n",
    "from pydub import AudioSegment\n",
    "\n",
    "load_dotenv()\n",
    "API_KEY = os.getenv('API_KEY')"
   ]
  },
  {
   "cell_type": "code",
   "execution_count": null,
   "metadata": {},
   "outputs": [],
   "source": [
    "def play_audio(file_path):\n",
    "    audio = AudioSegment.from_file(file_path)\n",
    "    play_audio_pydub(audio)"
   ]
  },
  {
   "cell_type": "code",
   "execution_count": null,
   "metadata": {},
   "outputs": [],
   "source": [
    "client = OpenAI(api_key=API_KEY)\n",
    "file_path = \"creator_statements.txt\"\n",
    "learner_statement = \" \"\n",
    "while True:\n",
    "  creator = client.chat.completions.create(\n",
    "    model=\"gpt-4o-mini\",\n",
    "    messages=[\n",
    "      {\"role\": \"system\", \"content\": \"\"\"You are a lingust who speaks only Shahabian, a new language which is easy and melodical introduce by Prof. Shahab enabling \n",
    "       AI agents to communicate with each other without human's interference.\n",
    "       Shahabian language is an easy language use of smooths words. It usually sound smelodical and moreover, it is being pronounced as it is written.\n",
    "       Shahabian language is not similar to any languages on the Earth. Do not converge to any known language.\n",
    "       \"\"\"\n",
    "       },\n",
    "      {\"role\": \"user\", \"content\": f\"\"\"\n",
    "      AI agent 2 has said: {learner_statement}.\n",
    "      Make an statement relevant to {learner_statement} in Shahabian language. Do NOT speak any language except Shahabian.\n",
    "      No matter what the other agent in {learner_statement} said, you should only speak in Shahabian language. Do not switch to any other language.\n",
    "      Shahabian language is not similar to any languages on the Earth. Do not converge to any known language.\n",
    "      \"\"\"}\n",
    "    ]\n",
    "  )\n",
    "  creator_statement = creator.choices[0].message.content\n",
    "  print(creator_statement)\n",
    "  with open(file_path, \"a\") as file:\n",
    "    file.write(\"\\nAI Agent 1: \" + creator_statement + \"\\n\\n\")\n",
    "  response = client.audio.speech.create(\n",
    "    model=\"tts-1\",\n",
    "    # voice=\"nova\",\n",
    "    voice=\"echo\",\n",
    "    input=creator_statement,\n",
    "  )\n",
    "  response.stream_to_file(\"Echo_Answer.mp3\")\n",
    "  play_audio(\"Echo_Answer.mp3\")\n",
    "  learner = client.chat.completions.create(\n",
    "    model=\"gpt-4o-mini\",\n",
    "    messages=[\n",
    "      {\"role\": \"system\", \"content\": \"You are a lingust who is language enthusiast and tries to learn new languages .\"},\n",
    "      {\"role\": \"user\", \"content\": f\"\"\"\n",
    "      AI agent 1 previously said {creator_statement}. Try to be smart and understand what it is saying. try to communicate and answer and make statement in the language of AI agent 1.\n",
    "      Remember you don't know Shahabian so you should just guess and try to learn it by guessing. Just make one statement and try to learn from your chat history.\n",
    "      Don't repeat the same statement. Try to learn and build new statement.\n",
    "      \"\"\"}\n",
    "    ]\n",
    "  )\n",
    "  learner_statement = learner.choices[0].message.content\n",
    "  print(learner_statement)\n",
    "  with open(file_path, \"a\") as file:\n",
    "    file.write(\"\\nAI Agent 2: \" + learner_statement + \"\\n\\n\")\n",
    "  response = client.audio.speech.create(\n",
    "    model=\"tts-1\",\n",
    "    voice=\"nova\",\n",
    "    # voice=\"echo\",\n",
    "    input=learner_statement,\n",
    "  )\n",
    "  response.stream_to_file(\"Echo_Answer.mp3\")\n",
    "  play_audio(\"Echo_Answer.mp3\")"
   ]
  }
 ],
 "metadata": {
  "kernelspec": {
   "display_name": "Python 3",
   "language": "python",
   "name": "python3"
  },
  "language_info": {
   "codemirror_mode": {
    "name": "ipython",
    "version": 3
   },
   "file_extension": ".py",
   "mimetype": "text/x-python",
   "name": "python",
   "nbconvert_exporter": "python",
   "pygments_lexer": "ipython3",
   "version": "3.9.6"
  }
 },
 "nbformat": 4,
 "nbformat_minor": 2
}
