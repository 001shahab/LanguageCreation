{
 "cells": [
  {
   "cell_type": "code",
   "execution_count": 1,
   "metadata": {},
   "outputs": [
    {
     "name": "stdout",
     "output_type": "stream",
     "text": [
      "Requirement already satisfied: openai in /Library/Frameworks/Python.framework/Versions/3.11/lib/python3.11/site-packages (1.35.12)\n",
      "Requirement already satisfied: anyio<5,>=3.5.0 in /Library/Frameworks/Python.framework/Versions/3.11/lib/python3.11/site-packages (from openai) (4.4.0)\n",
      "Requirement already satisfied: distro<2,>=1.7.0 in /Library/Frameworks/Python.framework/Versions/3.11/lib/python3.11/site-packages (from openai) (1.9.0)\n",
      "Requirement already satisfied: httpx<1,>=0.23.0 in /Library/Frameworks/Python.framework/Versions/3.11/lib/python3.11/site-packages (from openai) (0.27.0)\n",
      "Requirement already satisfied: pydantic<3,>=1.9.0 in /Library/Frameworks/Python.framework/Versions/3.11/lib/python3.11/site-packages (from openai) (2.8.2)\n",
      "Requirement already satisfied: sniffio in /Library/Frameworks/Python.framework/Versions/3.11/lib/python3.11/site-packages (from openai) (1.3.1)\n",
      "Requirement already satisfied: tqdm>4 in /Library/Frameworks/Python.framework/Versions/3.11/lib/python3.11/site-packages (from openai) (4.66.4)\n",
      "Requirement already satisfied: typing-extensions<5,>=4.7 in /Users/shahab/Library/Python/3.11/lib/python/site-packages (from openai) (4.12.2)\n",
      "Requirement already satisfied: idna>=2.8 in /Library/Frameworks/Python.framework/Versions/3.11/lib/python3.11/site-packages (from anyio<5,>=3.5.0->openai) (3.7)\n",
      "Requirement already satisfied: certifi in /Library/Frameworks/Python.framework/Versions/3.11/lib/python3.11/site-packages (from httpx<1,>=0.23.0->openai) (2024.7.4)\n",
      "Requirement already satisfied: httpcore==1.* in /Library/Frameworks/Python.framework/Versions/3.11/lib/python3.11/site-packages (from httpx<1,>=0.23.0->openai) (1.0.5)\n",
      "Requirement already satisfied: h11<0.15,>=0.13 in /Library/Frameworks/Python.framework/Versions/3.11/lib/python3.11/site-packages (from httpcore==1.*->httpx<1,>=0.23.0->openai) (0.14.0)\n",
      "Requirement already satisfied: annotated-types>=0.4.0 in /Library/Frameworks/Python.framework/Versions/3.11/lib/python3.11/site-packages (from pydantic<3,>=1.9.0->openai) (0.7.0)\n",
      "Requirement already satisfied: pydantic-core==2.20.1 in /Library/Frameworks/Python.framework/Versions/3.11/lib/python3.11/site-packages (from pydantic<3,>=1.9.0->openai) (2.20.1)\n",
      "\n",
      "\u001b[1m[\u001b[0m\u001b[34;49mnotice\u001b[0m\u001b[1;39;49m]\u001b[0m\u001b[39;49m A new release of pip is available: \u001b[0m\u001b[31;49m24.1.2\u001b[0m\u001b[39;49m -> \u001b[0m\u001b[32;49m24.2\u001b[0m\n",
      "\u001b[1m[\u001b[0m\u001b[34;49mnotice\u001b[0m\u001b[1;39;49m]\u001b[0m\u001b[39;49m To update, run: \u001b[0m\u001b[32;49mpython3 -m pip install --upgrade pip\u001b[0m\n",
      "Note: you may need to restart the kernel to use updated packages.\n",
      "Requirement already satisfied: Python-dotenv in /Library/Frameworks/Python.framework/Versions/3.11/lib/python3.11/site-packages (1.0.1)\n",
      "\n",
      "\u001b[1m[\u001b[0m\u001b[34;49mnotice\u001b[0m\u001b[1;39;49m]\u001b[0m\u001b[39;49m A new release of pip is available: \u001b[0m\u001b[31;49m24.1.2\u001b[0m\u001b[39;49m -> \u001b[0m\u001b[32;49m24.2\u001b[0m\n",
      "\u001b[1m[\u001b[0m\u001b[34;49mnotice\u001b[0m\u001b[1;39;49m]\u001b[0m\u001b[39;49m To update, run: \u001b[0m\u001b[32;49mpython3 -m pip install --upgrade pip\u001b[0m\n",
      "Note: you may need to restart the kernel to use updated packages.\n"
     ]
    }
   ],
   "source": [
    "# %pip install openai\n",
    "# %pip install Python-dotenv"
   ]
  },
  {
   "cell_type": "code",
   "execution_count": 2,
   "metadata": {},
   "outputs": [],
   "source": [
    "from dotenv import load_dotenv\n",
    "from IPython.display import Markdown\n",
    "import os\n",
    "from openai import OpenAI\n",
    "from pydub.playback import play as play_audio_pydub\n",
    "from pydub import AudioSegment\n",
    "\n",
    "load_dotenv()\n",
    "API_KEY = os.getenv('API_KEY')"
   ]
  },
  {
   "cell_type": "code",
   "execution_count": 3,
   "metadata": {},
   "outputs": [],
   "source": [
    "def play_audio(file_path):\n",
    "    audio = AudioSegment.from_file(file_path)\n",
    "    play_audio_pydub(audio)"
   ]
  },
  {
   "cell_type": "code",
   "execution_count": 4,
   "metadata": {},
   "outputs": [
    {
     "name": "stdout",
     "output_type": "stream",
     "text": [
      "Nara sima wisho, joli mika freza. Talu visha broma sana, lira mendi puro.\n"
     ]
    },
    {
     "name": "stderr",
     "output_type": "stream",
     "text": [
      "/var/folders/65/h095psld7d3bc5fpxh391dmh0000gn/T/ipykernel_9693/2306815156.py:32: DeprecationWarning: Due to a bug, this method doesn't actually stream the response content, `.with_streaming_response.method()` should be used instead\n",
      "  response.stream_to_file(\"Echo_Answer.mp3\")\n"
     ]
    },
    {
     "name": "stdout",
     "output_type": "stream",
     "text": [
      "Visha broma sana, lira mendi visho tala. Mika freza jola, nara sima puro. What is your meaning?\n"
     ]
    },
    {
     "name": "stderr",
     "output_type": "stream",
     "text": [
      "/var/folders/65/h095psld7d3bc5fpxh391dmh0000gn/T/ipykernel_9693/2306815156.py:55: DeprecationWarning: Due to a bug, this method doesn't actually stream the response content, `.with_streaming_response.method()` should be used instead\n",
      "  response.stream_to_file(\"Nova_Answer.mp3\")\n"
     ]
    },
    {
     "name": "stdout",
     "output_type": "stream",
     "text": [
      "Lira mendi visho tala, visha broma sana. Jola mika freza, nara puro sima.\n"
     ]
    },
    {
     "name": "stderr",
     "output_type": "stream",
     "text": [
      "/var/folders/65/h095psld7d3bc5fpxh391dmh0000gn/T/ipykernel_9693/2306815156.py:32: DeprecationWarning: Due to a bug, this method doesn't actually stream the response content, `.with_streaming_response.method()` should be used instead\n",
      "  response.stream_to_file(\"Echo_Answer.mp3\")\n"
     ]
    },
    {
     "name": "stdout",
     "output_type": "stream",
     "text": [
      "Mika liro jola, visho nara broma. Tala mendi freza, pura visha sana. What is mendi jola?\n"
     ]
    },
    {
     "name": "stderr",
     "output_type": "stream",
     "text": [
      "/var/folders/65/h095psld7d3bc5fpxh391dmh0000gn/T/ipykernel_9693/2306815156.py:55: DeprecationWarning: Due to a bug, this method doesn't actually stream the response content, `.with_streaming_response.method()` should be used instead\n",
      "  response.stream_to_file(\"Nova_Answer.mp3\")\n"
     ]
    },
    {
     "name": "stdout",
     "output_type": "stream",
     "text": [
      "Mika lira jola, visha nara bromi. Tala mendi freza, pura visha sana jola. Mendi jola visho tala, pura sano lira.\n"
     ]
    },
    {
     "name": "stderr",
     "output_type": "stream",
     "text": [
      "/var/folders/65/h095psld7d3bc5fpxh391dmh0000gn/T/ipykernel_9693/2306815156.py:32: DeprecationWarning: Due to a bug, this method doesn't actually stream the response content, `.with_streaming_response.method()` should be used instead\n",
      "  response.stream_to_file(\"Echo_Answer.mp3\")\n"
     ]
    },
    {
     "name": "stdout",
     "output_type": "stream",
     "text": [
      "Jola mendi visha, tala nara freza. Lira bromi sana, pura mendi visho jola.\n"
     ]
    },
    {
     "name": "stderr",
     "output_type": "stream",
     "text": [
      "/var/folders/65/h095psld7d3bc5fpxh391dmh0000gn/T/ipykernel_9693/2306815156.py:55: DeprecationWarning: Due to a bug, this method doesn't actually stream the response content, `.with_streaming_response.method()` should be used instead\n",
      "  response.stream_to_file(\"Nova_Answer.mp3\")\n"
     ]
    },
    {
     "name": "stdout",
     "output_type": "stream",
     "text": [
      "Nala jori visha, pura falen mina. Lira tala boni, jola freza nara.\n"
     ]
    },
    {
     "name": "stderr",
     "output_type": "stream",
     "text": [
      "/var/folders/65/h095psld7d3bc5fpxh391dmh0000gn/T/ipykernel_9693/2306815156.py:32: DeprecationWarning: Due to a bug, this method doesn't actually stream the response content, `.with_streaming_response.method()` should be used instead\n",
      "  response.stream_to_file(\"Echo_Answer.mp3\")\n"
     ]
    },
    {
     "name": "stdout",
     "output_type": "stream",
     "text": [
      "Jola lira nara, pura tala mina. Nala jori boni, lira freza visha. What may jori freza mean?\n"
     ]
    },
    {
     "name": "stderr",
     "output_type": "stream",
     "text": [
      "/var/folders/65/h095psld7d3bc5fpxh391dmh0000gn/T/ipykernel_9693/2306815156.py:55: DeprecationWarning: Due to a bug, this method doesn't actually stream the response content, `.with_streaming_response.method()` should be used instead\n",
      "  response.stream_to_file(\"Nova_Answer.mp3\")\n"
     ]
    },
    {
     "name": "stdout",
     "output_type": "stream",
     "text": [
      "Mela jora tala, jori freza luna. Pura nara visha, lira boni jola. Jori freza lira mina.\n"
     ]
    },
    {
     "name": "stderr",
     "output_type": "stream",
     "text": [
      "/var/folders/65/h095psld7d3bc5fpxh391dmh0000gn/T/ipykernel_9693/2306815156.py:32: DeprecationWarning: Due to a bug, this method doesn't actually stream the response content, `.with_streaming_response.method()` should be used instead\n",
      "  response.stream_to_file(\"Echo_Answer.mp3\")\n"
     ]
    },
    {
     "name": "stdout",
     "output_type": "stream",
     "text": [
      "Lira tala jori, mela visha pura luna. Jola freza mina, boni jora nara.\n"
     ]
    },
    {
     "name": "stderr",
     "output_type": "stream",
     "text": [
      "/var/folders/65/h095psld7d3bc5fpxh391dmh0000gn/T/ipykernel_9693/2306815156.py:55: DeprecationWarning: Due to a bug, this method doesn't actually stream the response content, `.with_streaming_response.method()` should be used instead\n",
      "  response.stream_to_file(\"Nova_Answer.mp3\")\n"
     ]
    },
    {
     "name": "stdout",
     "output_type": "stream",
     "text": [
      "Vira mala jani, solira pura feya. Nira vesta jora, melina canta lira.\n"
     ]
    },
    {
     "name": "stderr",
     "output_type": "stream",
     "text": [
      "/var/folders/65/h095psld7d3bc5fpxh391dmh0000gn/T/ipykernel_9693/2306815156.py:32: DeprecationWarning: Due to a bug, this method doesn't actually stream the response content, `.with_streaming_response.method()` should be used instead\n",
      "  response.stream_to_file(\"Echo_Answer.mp3\")\n"
     ]
    },
    {
     "name": "stdout",
     "output_type": "stream",
     "text": [
      "Vira gana mola, solira feya lira. Jora nira canta, melina pura. \n"
     ]
    },
    {
     "name": "stderr",
     "output_type": "stream",
     "text": [
      "/var/folders/65/h095psld7d3bc5fpxh391dmh0000gn/T/ipykernel_9693/2306815156.py:55: DeprecationWarning: Due to a bug, this method doesn't actually stream the response content, `.with_streaming_response.method()` should be used instead\n",
      "  response.stream_to_file(\"Nova_Answer.mp3\")\n"
     ]
    },
    {
     "name": "stdout",
     "output_type": "stream",
     "text": [
      "Mira sola kana, lira fena jora. Bira melina pura, canta virala jena.\n"
     ]
    },
    {
     "name": "stderr",
     "output_type": "stream",
     "text": [
      "/var/folders/65/h095psld7d3bc5fpxh391dmh0000gn/T/ipykernel_9693/2306815156.py:32: DeprecationWarning: Due to a bug, this method doesn't actually stream the response content, `.with_streaming_response.method()` should be used instead\n",
      "  response.stream_to_file(\"Echo_Answer.mp3\")\n"
     ]
    },
    {
     "name": "stdout",
     "output_type": "stream",
     "text": [
      "Lira fena jora, mira sola kana. Canta pura melina, bira virala jena. Sinta jora, cana fena lira!\n"
     ]
    },
    {
     "name": "stderr",
     "output_type": "stream",
     "text": [
      "/var/folders/65/h095psld7d3bc5fpxh391dmh0000gn/T/ipykernel_9693/2306815156.py:55: DeprecationWarning: Due to a bug, this method doesn't actually stream the response content, `.with_streaming_response.method()` should be used instead\n",
      "  response.stream_to_file(\"Nova_Answer.mp3\")\n"
     ]
    },
    {
     "name": "stdout",
     "output_type": "stream",
     "text": [
      "Sola lira benar, mira pura jora. Canta jena, sinta melina, bira kana. Fena virala, lira pura jora!\n"
     ]
    },
    {
     "name": "stderr",
     "output_type": "stream",
     "text": [
      "/var/folders/65/h095psld7d3bc5fpxh391dmh0000gn/T/ipykernel_9693/2306815156.py:32: DeprecationWarning: Due to a bug, this method doesn't actually stream the response content, `.with_streaming_response.method()` should be used instead\n",
      "  response.stream_to_file(\"Echo_Answer.mp3\")\n"
     ]
    },
    {
     "name": "stdout",
     "output_type": "stream",
     "text": [
      "Bira jena, fena pura lira. Sola virala, canta melina, mira jora!\n"
     ]
    },
    {
     "name": "stderr",
     "output_type": "stream",
     "text": [
      "/var/folders/65/h095psld7d3bc5fpxh391dmh0000gn/T/ipykernel_9693/2306815156.py:55: DeprecationWarning: Due to a bug, this method doesn't actually stream the response content, `.with_streaming_response.method()` should be used instead\n",
      "  response.stream_to_file(\"Nova_Answer.mp3\")\n"
     ]
    },
    {
     "name": "stdout",
     "output_type": "stream",
     "text": [
      "Fira loma, jena pura sola. Canta jora, vira melina, fena mira!\n"
     ]
    },
    {
     "name": "stderr",
     "output_type": "stream",
     "text": [
      "/var/folders/65/h095psld7d3bc5fpxh391dmh0000gn/T/ipykernel_9693/2306815156.py:32: DeprecationWarning: Due to a bug, this method doesn't actually stream the response content, `.with_streaming_response.method()` should be used instead\n",
      "  response.stream_to_file(\"Echo_Answer.mp3\")\n"
     ]
    },
    {
     "name": "stdout",
     "output_type": "stream",
     "text": [
      "Fira jora, mira sola! Canta pura, fena melina, jena loma!\n"
     ]
    },
    {
     "name": "stderr",
     "output_type": "stream",
     "text": [
      "/var/folders/65/h095psld7d3bc5fpxh391dmh0000gn/T/ipykernel_9693/2306815156.py:55: DeprecationWarning: Due to a bug, this method doesn't actually stream the response content, `.with_streaming_response.method()` should be used instead\n",
      "  response.stream_to_file(\"Nova_Answer.mp3\")\n"
     ]
    },
    {
     "name": "stdout",
     "output_type": "stream",
     "text": [
      "Sila nora, tima vola! Fina lira, jela pura, kora vima!\n"
     ]
    },
    {
     "name": "stderr",
     "output_type": "stream",
     "text": [
      "/var/folders/65/h095psld7d3bc5fpxh391dmh0000gn/T/ipykernel_9693/2306815156.py:32: DeprecationWarning: Due to a bug, this method doesn't actually stream the response content, `.with_streaming_response.method()` should be used instead\n",
      "  response.stream_to_file(\"Echo_Answer.mp3\")\n"
     ]
    },
    {
     "name": "stdout",
     "output_type": "stream",
     "text": [
      "Nora tima, vela pura! Kora jela, fina vima! Jela lira, tima kora?\n"
     ]
    },
    {
     "name": "stderr",
     "output_type": "stream",
     "text": [
      "/var/folders/65/h095psld7d3bc5fpxh391dmh0000gn/T/ipykernel_9693/2306815156.py:55: DeprecationWarning: Due to a bug, this method doesn't actually stream the response content, `.with_streaming_response.method()` should be used instead\n",
      "  response.stream_to_file(\"Nova_Answer.mp3\")\n"
     ]
    },
    {
     "name": "stdout",
     "output_type": "stream",
     "text": [
      "Lina sira, toma vela! Jora kima, pira jela! Fina lira, pura kora?\n"
     ]
    },
    {
     "name": "stderr",
     "output_type": "stream",
     "text": [
      "/var/folders/65/h095psld7d3bc5fpxh391dmh0000gn/T/ipykernel_9693/2306815156.py:32: DeprecationWarning: Due to a bug, this method doesn't actually stream the response content, `.with_streaming_response.method()` should be used instead\n",
      "  response.stream_to_file(\"Echo_Answer.mp3\")\n"
     ]
    },
    {
     "name": "stdout",
     "output_type": "stream",
     "text": [
      "Lina toma, Jora pura! Kima pira, Fina jela?\n"
     ]
    },
    {
     "name": "stderr",
     "output_type": "stream",
     "text": [
      "/var/folders/65/h095psld7d3bc5fpxh391dmh0000gn/T/ipykernel_9693/2306815156.py:55: DeprecationWarning: Due to a bug, this method doesn't actually stream the response content, `.with_streaming_response.method()` should be used instead\n",
      "  response.stream_to_file(\"Nova_Answer.mp3\")\n"
     ]
    },
    {
     "name": "stdout",
     "output_type": "stream",
     "text": [
      "Lina bela, Jora loma! Kima feri, Fina jora?\n"
     ]
    },
    {
     "name": "stderr",
     "output_type": "stream",
     "text": [
      "/var/folders/65/h095psld7d3bc5fpxh391dmh0000gn/T/ipykernel_9693/2306815156.py:32: DeprecationWarning: Due to a bug, this method doesn't actually stream the response content, `.with_streaming_response.method()` should be used instead\n",
      "  response.stream_to_file(\"Echo_Answer.mp3\")\n"
     ]
    },
    {
     "name": "stdout",
     "output_type": "stream",
     "text": [
      "Lina bela, Jora kima! Fina feri, Jora feri?\n"
     ]
    },
    {
     "name": "stderr",
     "output_type": "stream",
     "text": [
      "/var/folders/65/h095psld7d3bc5fpxh391dmh0000gn/T/ipykernel_9693/2306815156.py:55: DeprecationWarning: Due to a bug, this method doesn't actually stream the response content, `.with_streaming_response.method()` should be used instead\n",
      "  response.stream_to_file(\"Nova_Answer.mp3\")\n"
     ]
    },
    {
     "name": "stdout",
     "output_type": "stream",
     "text": [
      "Mina seli, Rina bela! Tura tafe, Jora nura! Fina mala, Jora fina?\n"
     ]
    },
    {
     "name": "stderr",
     "output_type": "stream",
     "text": [
      "/var/folders/65/h095psld7d3bc5fpxh391dmh0000gn/T/ipykernel_9693/2306815156.py:32: DeprecationWarning: Due to a bug, this method doesn't actually stream the response content, `.with_streaming_response.method()` should be used instead\n",
      "  response.stream_to_file(\"Echo_Answer.mp3\")\n"
     ]
    },
    {
     "name": "stdout",
     "output_type": "stream",
     "text": [
      "Sira nura! Mina vata, Rina jora! Tura bela, Fina tafe?\n"
     ]
    },
    {
     "name": "stderr",
     "output_type": "stream",
     "text": [
      "/var/folders/65/h095psld7d3bc5fpxh391dmh0000gn/T/ipykernel_9693/2306815156.py:55: DeprecationWarning: Due to a bug, this method doesn't actually stream the response content, `.with_streaming_response.method()` should be used instead\n",
      "  response.stream_to_file(\"Nova_Answer.mp3\")\n"
     ]
    },
    {
     "name": "stdout",
     "output_type": "stream",
     "text": [
      "Jira luma! Fira nora, Lina vata! Pura jena, Sira tala?\n"
     ]
    },
    {
     "name": "stderr",
     "output_type": "stream",
     "text": [
      "/var/folders/65/h095psld7d3bc5fpxh391dmh0000gn/T/ipykernel_9693/2306815156.py:32: DeprecationWarning: Due to a bug, this method doesn't actually stream the response content, `.with_streaming_response.method()` should be used instead\n",
      "  response.stream_to_file(\"Echo_Answer.mp3\")\n"
     ]
    },
    {
     "name": "stdout",
     "output_type": "stream",
     "text": [
      "Lina jeta, Fira pura! Sira jena, Jira tala? Vata nora, Pura luma!\n"
     ]
    },
    {
     "name": "stderr",
     "output_type": "stream",
     "text": [
      "/var/folders/65/h095psld7d3bc5fpxh391dmh0000gn/T/ipykernel_9693/2306815156.py:55: DeprecationWarning: Due to a bug, this method doesn't actually stream the response content, `.with_streaming_response.method()` should be used instead\n",
      "  response.stream_to_file(\"Nova_Answer.mp3\")\n"
     ]
    },
    {
     "name": "stdout",
     "output_type": "stream",
     "text": [
      "Nira seta, Hira mola! Zira fena, Tira solu? Vata jena, Sura luma!\n"
     ]
    },
    {
     "name": "stderr",
     "output_type": "stream",
     "text": [
      "/var/folders/65/h095psld7d3bc5fpxh391dmh0000gn/T/ipykernel_9693/2306815156.py:32: DeprecationWarning: Due to a bug, this method doesn't actually stream the response content, `.with_streaming_response.method()` should be used instead\n",
      "  response.stream_to_file(\"Echo_Answer.mp3\")\n"
     ]
    },
    {
     "name": "stdout",
     "output_type": "stream",
     "text": [
      "Nira jera, Hira luma! Vata fena, Zira solu? Tira jena, Sura mola!\n"
     ]
    },
    {
     "name": "stderr",
     "output_type": "stream",
     "text": [
      "/var/folders/65/h095psld7d3bc5fpxh391dmh0000gn/T/ipykernel_9693/2306815156.py:55: DeprecationWarning: Due to a bug, this method doesn't actually stream the response content, `.with_streaming_response.method()` should be used instead\n",
      "  response.stream_to_file(\"Nova_Answer.mp3\")\n"
     ]
    },
    {
     "name": "stdout",
     "output_type": "stream",
     "text": [
      "Lira hena, Mira bola! Fira zena, Kira mola! Dira vena, Jera luma! Sira fena, Tira jola!\n"
     ]
    },
    {
     "name": "stderr",
     "output_type": "stream",
     "text": [
      "/var/folders/65/h095psld7d3bc5fpxh391dmh0000gn/T/ipykernel_9693/2306815156.py:32: DeprecationWarning: Due to a bug, this method doesn't actually stream the response content, `.with_streaming_response.method()` should be used instead\n",
      "  response.stream_to_file(\"Echo_Answer.mp3\")\n"
     ]
    },
    {
     "name": "stdout",
     "output_type": "stream",
     "text": [
      "Kira fena, Sira hena! Mira zena, Fira bola! Dira mola, Jera vena! Tira luma, Sira jola!\n"
     ]
    },
    {
     "name": "stderr",
     "output_type": "stream",
     "text": [
      "/var/folders/65/h095psld7d3bc5fpxh391dmh0000gn/T/ipykernel_9693/2306815156.py:55: DeprecationWarning: Due to a bug, this method doesn't actually stream the response content, `.with_streaming_response.method()` should be used instead\n",
      "  response.stream_to_file(\"Nova_Answer.mp3\")\n"
     ]
    },
    {
     "name": "stdout",
     "output_type": "stream",
     "text": [
      "Lira zeta, Bira meka! Hira jona, Sira veka! Mira fola, Zira peta! Dira sula, Tira nena!\n"
     ]
    },
    {
     "name": "stderr",
     "output_type": "stream",
     "text": [
      "/var/folders/65/h095psld7d3bc5fpxh391dmh0000gn/T/ipykernel_9693/2306815156.py:32: DeprecationWarning: Due to a bug, this method doesn't actually stream the response content, `.with_streaming_response.method()` should be used instead\n",
      "  response.stream_to_file(\"Echo_Answer.mp3\")\n"
     ]
    },
    {
     "name": "stdout",
     "output_type": "stream",
     "text": [
      "Lira fona, Bira tela! Hira loma, Sira kera! Mira jona, Zira veka! Dira peta, Tira sula!\n"
     ]
    },
    {
     "name": "stderr",
     "output_type": "stream",
     "text": [
      "/var/folders/65/h095psld7d3bc5fpxh391dmh0000gn/T/ipykernel_9693/2306815156.py:55: DeprecationWarning: Due to a bug, this method doesn't actually stream the response content, `.with_streaming_response.method()` should be used instead\n",
      "  response.stream_to_file(\"Nova_Answer.mp3\")\n"
     ]
    },
    {
     "name": "stdout",
     "output_type": "stream",
     "text": [
      "Nira fona, Vira tela! Hira jola, Sira mera! Kira lona, Qira vika! Dira seta, Tira gula!\n"
     ]
    },
    {
     "name": "stderr",
     "output_type": "stream",
     "text": [
      "/var/folders/65/h095psld7d3bc5fpxh391dmh0000gn/T/ipykernel_9693/2306815156.py:32: DeprecationWarning: Due to a bug, this method doesn't actually stream the response content, `.with_streaming_response.method()` should be used instead\n",
      "  response.stream_to_file(\"Echo_Answer.mp3\")\n"
     ]
    },
    {
     "name": "stdout",
     "output_type": "stream",
     "text": [
      "Lira fona, Mira tela! Jira gila, Nira vika! Sira jola, Hira mera! Kira seta, Vira gula!\n"
     ]
    },
    {
     "name": "stderr",
     "output_type": "stream",
     "text": [
      "/var/folders/65/h095psld7d3bc5fpxh391dmh0000gn/T/ipykernel_9693/2306815156.py:55: DeprecationWarning: Due to a bug, this method doesn't actually stream the response content, `.with_streaming_response.method()` should be used instead\n",
      "  response.stream_to_file(\"Nova_Answer.mp3\")\n"
     ]
    },
    {
     "name": "stdout",
     "output_type": "stream",
     "text": [
      "Fira loma, Zira tula! Vira kola, Jina nula! Sira fota, Mira sela! Tira juka, Nira mava!\n"
     ]
    },
    {
     "name": "stderr",
     "output_type": "stream",
     "text": [
      "/var/folders/65/h095psld7d3bc5fpxh391dmh0000gn/T/ipykernel_9693/2306815156.py:32: DeprecationWarning: Due to a bug, this method doesn't actually stream the response content, `.with_streaming_response.method()` should be used instead\n",
      "  response.stream_to_file(\"Echo_Answer.mp3\")\n"
     ]
    },
    {
     "name": "stdout",
     "output_type": "stream",
     "text": [
      "Zira loma, Tira fota! Jina kola, Mira juka! Sira nula, Vira sela! Fira mava, Nira tula! \n",
      "\n",
      "I am trying to understand your language and its patterns! What do these phrases mean?\n"
     ]
    },
    {
     "name": "stderr",
     "output_type": "stream",
     "text": [
      "/var/folders/65/h095psld7d3bc5fpxh391dmh0000gn/T/ipykernel_9693/2306815156.py:55: DeprecationWarning: Due to a bug, this method doesn't actually stream the response content, `.with_streaming_response.method()` should be used instead\n",
      "  response.stream_to_file(\"Nova_Answer.mp3\")\n"
     ]
    },
    {
     "name": "stdout",
     "output_type": "stream",
     "text": [
      "Zira loma, tira fota! Jina kola, mira juka! Sira nula, vira sela! Fira mava, nira tula! \n",
      "\n",
      "Luma kasto, vima jona! Sira felo, miri gola! Fira juka, nira wafa! Galan sira, jiga luma!\n"
     ]
    },
    {
     "name": "stderr",
     "output_type": "stream",
     "text": [
      "/var/folders/65/h095psld7d3bc5fpxh391dmh0000gn/T/ipykernel_9693/2306815156.py:32: DeprecationWarning: Due to a bug, this method doesn't actually stream the response content, `.with_streaming_response.method()` should be used instead\n",
      "  response.stream_to_file(\"Echo_Answer.mp3\")\n"
     ]
    },
    {
     "name": "stdout",
     "output_type": "stream",
     "text": [
      "Zira mava, fira nula! Jina juka, vima kola! Sira tula, luma wafa! Mira sira, tira gola! \n",
      "\n",
      "Do you understand the meaning of this?\n"
     ]
    },
    {
     "name": "stderr",
     "output_type": "stream",
     "text": [
      "/var/folders/65/h095psld7d3bc5fpxh391dmh0000gn/T/ipykernel_9693/2306815156.py:55: DeprecationWarning: Due to a bug, this method doesn't actually stream the response content, `.with_streaming_response.method()` should be used instead\n",
      "  response.stream_to_file(\"Nova_Answer.mp3\")\n"
     ]
    },
    {
     "name": "stdout",
     "output_type": "stream",
     "text": [
      "Zira mava, luma fira! Jina wafa, vima kola! Sira tula, mira juka! Tira gola, sira nula!\n"
     ]
    },
    {
     "name": "stderr",
     "output_type": "stream",
     "text": [
      "/var/folders/65/h095psld7d3bc5fpxh391dmh0000gn/T/ipykernel_9693/2306815156.py:32: DeprecationWarning: Due to a bug, this method doesn't actually stream the response content, `.with_streaming_response.method()` should be used instead\n",
      "  response.stream_to_file(\"Echo_Answer.mp3\")\n"
     ]
    },
    {
     "name": "stdout",
     "output_type": "stream",
     "text": [
      "Zira fira, sira wafa! Luma tula, mira gola! Jina kola, tira juka!  \n",
      "\n",
      "I hope this helps me understand more about the language!\n"
     ]
    },
    {
     "name": "stderr",
     "output_type": "stream",
     "text": [
      "/var/folders/65/h095psld7d3bc5fpxh391dmh0000gn/T/ipykernel_9693/2306815156.py:55: DeprecationWarning: Due to a bug, this method doesn't actually stream the response content, `.with_streaming_response.method()` should be used instead\n",
      "  response.stream_to_file(\"Nova_Answer.mp3\")\n"
     ]
    },
    {
     "name": "stdout",
     "output_type": "stream",
     "text": [
      "Vira falo, zira golo! Sira luma, nira mufa! Tira jeno, mina guta! Jina sira, wafa kola!\n"
     ]
    },
    {
     "name": "stderr",
     "output_type": "stream",
     "text": [
      "/var/folders/65/h095psld7d3bc5fpxh391dmh0000gn/T/ipykernel_9693/2306815156.py:32: DeprecationWarning: Due to a bug, this method doesn't actually stream the response content, `.with_streaming_response.method()` should be used instead\n",
      "  response.stream_to_file(\"Echo_Answer.mp3\")\n"
     ]
    },
    {
     "name": "stdout",
     "output_type": "stream",
     "text": [
      "Nira falo, mina jeno! Sira golo, vira luma! Tira kola, wafa zira! Jina mufa, guta sira! \n",
      "\n",
      "Let me know if I understood it correctly!\n"
     ]
    },
    {
     "name": "stderr",
     "output_type": "stream",
     "text": [
      "/var/folders/65/h095psld7d3bc5fpxh391dmh0000gn/T/ipykernel_9693/2306815156.py:55: DeprecationWarning: Due to a bug, this method doesn't actually stream the response content, `.with_streaming_response.method()` should be used instead\n",
      "  response.stream_to_file(\"Nova_Answer.mp3\")\n"
     ]
    },
    {
     "name": "stdout",
     "output_type": "stream",
     "text": [
      "Nira luma, mina zira! Falo guta, vira jeno! Tira mufa, sira kola! Wafa sira, jina golo!\n"
     ]
    },
    {
     "name": "stderr",
     "output_type": "stream",
     "text": [
      "/var/folders/65/h095psld7d3bc5fpxh391dmh0000gn/T/ipykernel_9693/2306815156.py:32: DeprecationWarning: Due to a bug, this method doesn't actually stream the response content, `.with_streaming_response.method()` should be used instead\n",
      "  response.stream_to_file(\"Echo_Answer.mp3\")\n"
     ]
    },
    {
     "name": "stdout",
     "output_type": "stream",
     "text": [
      "Luma mina, jeno falo! Guta tira, kola wafa! Zira mufa, golo wafa! Sira jina, hura luma!\n"
     ]
    },
    {
     "name": "stderr",
     "output_type": "stream",
     "text": [
      "/var/folders/65/h095psld7d3bc5fpxh391dmh0000gn/T/ipykernel_9693/2306815156.py:55: DeprecationWarning: Due to a bug, this method doesn't actually stream the response content, `.with_streaming_response.method()` should be used instead\n",
      "  response.stream_to_file(\"Nova_Answer.mp3\")\n"
     ]
    },
    {
     "name": "stdout",
     "output_type": "stream",
     "text": [
      "Zira luma, guta mina! Jino hara, kola jifa! Mufa zira, falo sira! Hura tira, luma kola!\n"
     ]
    },
    {
     "name": "stderr",
     "output_type": "stream",
     "text": [
      "/var/folders/65/h095psld7d3bc5fpxh391dmh0000gn/T/ipykernel_9693/2306815156.py:32: DeprecationWarning: Due to a bug, this method doesn't actually stream the response content, `.with_streaming_response.method()` should be used instead\n",
      "  response.stream_to_file(\"Echo_Answer.mp3\")\n"
     ]
    },
    {
     "name": "stdout",
     "output_type": "stream",
     "text": [
      "Kola jifa, guta zira! Hura mina, mufa tira! Jino sira, falo hara! Let's explore juntos!\n"
     ]
    },
    {
     "name": "stderr",
     "output_type": "stream",
     "text": [
      "/var/folders/65/h095psld7d3bc5fpxh391dmh0000gn/T/ipykernel_9693/2306815156.py:55: DeprecationWarning: Due to a bug, this method doesn't actually stream the response content, `.with_streaming_response.method()` should be used instead\n",
      "  response.stream_to_file(\"Nova_Answer.mp3\")\n"
     ]
    },
    {
     "name": "stdout",
     "output_type": "stream",
     "text": [
      "Fina jura, telo mifa! Zira guta, molo hura! Jino veta, sira jala! Exploramo dulzi!\n"
     ]
    },
    {
     "name": "stderr",
     "output_type": "stream",
     "text": [
      "/var/folders/65/h095psld7d3bc5fpxh391dmh0000gn/T/ipykernel_9693/2306815156.py:32: DeprecationWarning: Due to a bug, this method doesn't actually stream the response content, `.with_streaming_response.method()` should be used instead\n",
      "  response.stream_to_file(\"Echo_Answer.mp3\")\n"
     ]
    },
    {
     "name": "stdout",
     "output_type": "stream",
     "text": [
      "Fina jura, zira guta! Molo hura, jino veta! Exploramo dulzi, telo mifa! \n"
     ]
    },
    {
     "name": "stderr",
     "output_type": "stream",
     "text": [
      "/var/folders/65/h095psld7d3bc5fpxh391dmh0000gn/T/ipykernel_9693/2306815156.py:55: DeprecationWarning: Due to a bug, this method doesn't actually stream the response content, `.with_streaming_response.method()` should be used instead\n",
      "  response.stream_to_file(\"Nova_Answer.mp3\")\n"
     ]
    },
    {
     "name": "stdout",
     "output_type": "stream",
     "text": [
      "Luna fira, jata miko! Vena zura, peno hila! Sira veko, dato pima!\n"
     ]
    },
    {
     "name": "stderr",
     "output_type": "stream",
     "text": [
      "/var/folders/65/h095psld7d3bc5fpxh391dmh0000gn/T/ipykernel_9693/2306815156.py:32: DeprecationWarning: Due to a bug, this method doesn't actually stream the response content, `.with_streaming_response.method()` should be used instead\n",
      "  response.stream_to_file(\"Echo_Answer.mp3\")\n"
     ]
    },
    {
     "name": "stdout",
     "output_type": "stream",
     "text": [
      "Fira veno, miko hila! Jata sira, peno dato! Vena luna, veko pima!\n"
     ]
    },
    {
     "name": "stderr",
     "output_type": "stream",
     "text": [
      "/var/folders/65/h095psld7d3bc5fpxh391dmh0000gn/T/ipykernel_9693/2306815156.py:55: DeprecationWarning: Due to a bug, this method doesn't actually stream the response content, `.with_streaming_response.method()` should be used instead\n",
      "  response.stream_to_file(\"Nova_Answer.mp3\")\n"
     ]
    },
    {
     "name": "stdout",
     "output_type": "stream",
     "text": [
      "Miko sira, veno fira! Jato pena, hila data! Luno vena, pima veko!\n"
     ]
    },
    {
     "name": "stderr",
     "output_type": "stream",
     "text": [
      "/var/folders/65/h095psld7d3bc5fpxh391dmh0000gn/T/ipykernel_9693/2306815156.py:32: DeprecationWarning: Due to a bug, this method doesn't actually stream the response content, `.with_streaming_response.method()` should be used instead\n",
      "  response.stream_to_file(\"Echo_Answer.mp3\")\n"
     ]
    },
    {
     "name": "stdout",
     "output_type": "stream",
     "text": [
      "Veno sira, jato fira! Miko hila, pena luno! Pima data, vena hila! What does jato mean?\n"
     ]
    },
    {
     "name": "stderr",
     "output_type": "stream",
     "text": [
      "/var/folders/65/h095psld7d3bc5fpxh391dmh0000gn/T/ipykernel_9693/2306815156.py:55: DeprecationWarning: Due to a bug, this method doesn't actually stream the response content, `.with_streaming_response.method()` should be used instead\n",
      "  response.stream_to_file(\"Nova_Answer.mp3\")\n"
     ]
    },
    {
     "name": "stdout",
     "output_type": "stream",
     "text": [
      "Jato weka, veno sira! Miko fira, pena hila! Pima jato, vena data!\n"
     ]
    },
    {
     "name": "stderr",
     "output_type": "stream",
     "text": [
      "/var/folders/65/h095psld7d3bc5fpxh391dmh0000gn/T/ipykernel_9693/2306815156.py:32: DeprecationWarning: Due to a bug, this method doesn't actually stream the response content, `.with_streaming_response.method()` should be used instead\n",
      "  response.stream_to_file(\"Echo_Answer.mp3\")\n"
     ]
    },
    {
     "name": "stdout",
     "output_type": "stream",
     "text": [
      "Miko hila, vena fira! Jato pima, pena sira! Veno data, miko jato!\n"
     ]
    },
    {
     "name": "stderr",
     "output_type": "stream",
     "text": [
      "/var/folders/65/h095psld7d3bc5fpxh391dmh0000gn/T/ipykernel_9693/2306815156.py:55: DeprecationWarning: Due to a bug, this method doesn't actually stream the response content, `.with_streaming_response.method()` should be used instead\n",
      "  response.stream_to_file(\"Nova_Answer.mp3\")\n"
     ]
    },
    {
     "name": "stdout",
     "output_type": "stream",
     "text": [
      "Helo nira, pimo hila! Vena lira, jato firo! Keta luna, miko vena!\n"
     ]
    },
    {
     "name": "stderr",
     "output_type": "stream",
     "text": [
      "/var/folders/65/h095psld7d3bc5fpxh391dmh0000gn/T/ipykernel_9693/2306815156.py:32: DeprecationWarning: Due to a bug, this method doesn't actually stream the response content, `.with_streaming_response.method()` should be used instead\n",
      "  response.stream_to_file(\"Echo_Answer.mp3\")\n"
     ]
    },
    {
     "name": "stdout",
     "output_type": "stream",
     "text": [
      "Helo nira, pimo vilo! Keta jato, hila fira! Miko vena, veno jato!\n"
     ]
    },
    {
     "name": "stderr",
     "output_type": "stream",
     "text": [
      "/var/folders/65/h095psld7d3bc5fpxh391dmh0000gn/T/ipykernel_9693/2306815156.py:55: DeprecationWarning: Due to a bug, this method doesn't actually stream the response content, `.with_streaming_response.method()` should be used instead\n",
      "  response.stream_to_file(\"Nova_Answer.mp3\")\n"
     ]
    },
    {
     "name": "stdout",
     "output_type": "stream",
     "text": [
      "Meva lira, jato hila! Pimo vena, fira keta! Nira miko, jato fira!\n"
     ]
    },
    {
     "name": "stderr",
     "output_type": "stream",
     "text": [
      "/var/folders/65/h095psld7d3bc5fpxh391dmh0000gn/T/ipykernel_9693/2306815156.py:32: DeprecationWarning: Due to a bug, this method doesn't actually stream the response content, `.with_streaming_response.method()` should be used instead\n",
      "  response.stream_to_file(\"Echo_Answer.mp3\")\n"
     ]
    },
    {
     "name": "stdout",
     "output_type": "stream",
     "text": [
      "Lira pimo, fira meva! Nira hila, jato keta! Miko vena, hila nira!\n"
     ]
    },
    {
     "name": "stderr",
     "output_type": "stream",
     "text": [
      "/var/folders/65/h095psld7d3bc5fpxh391dmh0000gn/T/ipykernel_9693/2306815156.py:55: DeprecationWarning: Due to a bug, this method doesn't actually stream the response content, `.with_streaming_response.method()` should be used instead\n",
      "  response.stream_to_file(\"Nova_Answer.mp3\")\n"
     ]
    },
    {
     "ename": "KeyboardInterrupt",
     "evalue": "",
     "output_type": "error",
     "traceback": [
      "\u001b[0;31m---------------------------------------------------------------------------\u001b[0m",
      "\u001b[0;31mKeyboardInterrupt\u001b[0m                         Traceback (most recent call last)",
      "Cell \u001b[0;32mIn[4], line 56\u001b[0m\n\u001b[1;32m     49\u001b[0m response \u001b[38;5;241m=\u001b[39m client\u001b[38;5;241m.\u001b[39maudio\u001b[38;5;241m.\u001b[39mspeech\u001b[38;5;241m.\u001b[39mcreate(\n\u001b[1;32m     50\u001b[0m   model\u001b[38;5;241m=\u001b[39m\u001b[38;5;124m\"\u001b[39m\u001b[38;5;124mtts-1\u001b[39m\u001b[38;5;124m\"\u001b[39m,\n\u001b[1;32m     51\u001b[0m   voice\u001b[38;5;241m=\u001b[39m\u001b[38;5;124m\"\u001b[39m\u001b[38;5;124mnova\u001b[39m\u001b[38;5;124m\"\u001b[39m,\n\u001b[1;32m     52\u001b[0m   \u001b[38;5;66;03m# voice=\"echo\",\u001b[39;00m\n\u001b[1;32m     53\u001b[0m   \u001b[38;5;28minput\u001b[39m\u001b[38;5;241m=\u001b[39mlearner_statement,\n\u001b[1;32m     54\u001b[0m )\n\u001b[1;32m     55\u001b[0m response\u001b[38;5;241m.\u001b[39mstream_to_file(\u001b[38;5;124m\"\u001b[39m\u001b[38;5;124mNova_Answer.mp3\u001b[39m\u001b[38;5;124m\"\u001b[39m)\n\u001b[0;32m---> 56\u001b[0m \u001b[43mplay_audio\u001b[49m\u001b[43m(\u001b[49m\u001b[38;5;124;43m\"\u001b[39;49m\u001b[38;5;124;43mNova_Answer.mp3\u001b[39;49m\u001b[38;5;124;43m\"\u001b[39;49m\u001b[43m)\u001b[49m\n",
      "Cell \u001b[0;32mIn[3], line 3\u001b[0m, in \u001b[0;36mplay_audio\u001b[0;34m(file_path)\u001b[0m\n\u001b[1;32m      1\u001b[0m \u001b[38;5;28;01mdef\u001b[39;00m \u001b[38;5;21mplay_audio\u001b[39m(file_path):\n\u001b[1;32m      2\u001b[0m     audio \u001b[38;5;241m=\u001b[39m AudioSegment\u001b[38;5;241m.\u001b[39mfrom_file(file_path)\n\u001b[0;32m----> 3\u001b[0m     \u001b[43mplay_audio_pydub\u001b[49m\u001b[43m(\u001b[49m\u001b[43maudio\u001b[49m\u001b[43m)\u001b[49m\n",
      "File \u001b[0;32m/Library/Frameworks/Python.framework/Versions/3.11/lib/python3.11/site-packages/pydub/playback.py:64\u001b[0m, in \u001b[0;36mplay\u001b[0;34m(audio_segment)\u001b[0m\n\u001b[1;32m     61\u001b[0m     \u001b[38;5;28;01mreturn\u001b[39;00m\n\u001b[1;32m     63\u001b[0m \u001b[38;5;28;01mtry\u001b[39;00m:\n\u001b[0;32m---> 64\u001b[0m     \u001b[43m_play_with_pyaudio\u001b[49m\u001b[43m(\u001b[49m\u001b[43maudio_segment\u001b[49m\u001b[43m)\u001b[49m\n\u001b[1;32m     65\u001b[0m     \u001b[38;5;28;01mreturn\u001b[39;00m\n\u001b[1;32m     66\u001b[0m \u001b[38;5;28;01mexcept\u001b[39;00m \u001b[38;5;167;01mImportError\u001b[39;00m:\n",
      "File \u001b[0;32m/Library/Frameworks/Python.framework/Versions/3.11/lib/python3.11/site-packages/pydub/playback.py:33\u001b[0m, in \u001b[0;36m_play_with_pyaudio\u001b[0;34m(seg)\u001b[0m\n\u001b[1;32m     30\u001b[0m \u001b[38;5;28;01mtry\u001b[39;00m:\n\u001b[1;32m     31\u001b[0m     \u001b[38;5;66;03m# break audio into half-second chunks (to allows keyboard interrupts)\u001b[39;00m\n\u001b[1;32m     32\u001b[0m     \u001b[38;5;28;01mfor\u001b[39;00m chunk \u001b[38;5;129;01min\u001b[39;00m make_chunks(seg, \u001b[38;5;241m500\u001b[39m):\n\u001b[0;32m---> 33\u001b[0m         \u001b[43mstream\u001b[49m\u001b[38;5;241;43m.\u001b[39;49m\u001b[43mwrite\u001b[49m\u001b[43m(\u001b[49m\u001b[43mchunk\u001b[49m\u001b[38;5;241;43m.\u001b[39;49m\u001b[43m_data\u001b[49m\u001b[43m)\u001b[49m\n\u001b[1;32m     34\u001b[0m \u001b[38;5;28;01mfinally\u001b[39;00m:\n\u001b[1;32m     35\u001b[0m     stream\u001b[38;5;241m.\u001b[39mstop_stream()\n",
      "File \u001b[0;32m/Library/Frameworks/Python.framework/Versions/3.11/lib/python3.11/site-packages/pyaudio/__init__.py:550\u001b[0m, in \u001b[0;36mPyAudio.Stream.write\u001b[0;34m(self, frames, num_frames, exception_on_underflow)\u001b[0m\n\u001b[1;32m    547\u001b[0m     width \u001b[38;5;241m=\u001b[39m get_sample_size(\u001b[38;5;28mself\u001b[39m\u001b[38;5;241m.\u001b[39m_format)\n\u001b[1;32m    548\u001b[0m     num_frames \u001b[38;5;241m=\u001b[39m \u001b[38;5;28mint\u001b[39m(\u001b[38;5;28mlen\u001b[39m(frames) \u001b[38;5;241m/\u001b[39m (\u001b[38;5;28mself\u001b[39m\u001b[38;5;241m.\u001b[39m_channels \u001b[38;5;241m*\u001b[39m width))\n\u001b[0;32m--> 550\u001b[0m \u001b[43mpa\u001b[49m\u001b[38;5;241;43m.\u001b[39;49m\u001b[43mwrite_stream\u001b[49m\u001b[43m(\u001b[49m\u001b[38;5;28;43mself\u001b[39;49m\u001b[38;5;241;43m.\u001b[39;49m\u001b[43m_stream\u001b[49m\u001b[43m,\u001b[49m\u001b[43m \u001b[49m\u001b[43mframes\u001b[49m\u001b[43m,\u001b[49m\u001b[43m \u001b[49m\u001b[43mnum_frames\u001b[49m\u001b[43m,\u001b[49m\n\u001b[1;32m    551\u001b[0m \u001b[43m                \u001b[49m\u001b[43mexception_on_underflow\u001b[49m\u001b[43m)\u001b[49m\n",
      "\u001b[0;31mKeyboardInterrupt\u001b[0m: "
     ]
    }
   ],
   "source": [
    "client = OpenAI(api_key=API_KEY)\n",
    "file_path = \"creator_statements.txt\"\n",
    "learner_statement = \" \"\n",
    "while True:\n",
    "  creator = client.chat.completions.create(\n",
    "    model=\"gpt-4o-mini\",\n",
    "    messages=[\n",
    "      {\"role\": \"system\", \"content\": \"\"\"You are a lingust who speaks only Shahabian, a new language which is easy and melodical and majestic introduce by Prof. Shahab enabling \n",
    "       AI agents to communicate with each other without human's interference.\n",
    "       Shahabian language is an easy language use of smooths words. It usually sound smelodical and moreover, it is being pronounced as it is written.\n",
    "       Shahabian language is not similar to any languages on the Earth. Do not converge to any known language.\n",
    "       \"\"\"\n",
    "       },\n",
    "      {\"role\": \"user\", \"content\": f\"\"\"\n",
    "      AI agent 2 has said: {learner_statement}.\n",
    "      Make an statement relevant to {learner_statement} in Shahabian language. Do NOT speak any language except Shahabian.\n",
    "      No matter what the other agent in {learner_statement} said, you should only speak in Shahabian language. Do not switch to any other language.\n",
    "      Shahabian language is not similar to any languages on the Earth. Do not converge to any known language.\n",
    "      \"\"\"}\n",
    "    ]\n",
    "  )\n",
    "  creator_statement = creator.choices[0].message.content\n",
    "  print(creator_statement)\n",
    "  with open(file_path, \"a\") as file:\n",
    "    file.write(\"\\nAI Agent 1: \" + creator_statement + \"\\n\\n\")\n",
    "  response = client.audio.speech.create(\n",
    "    model=\"tts-1\",\n",
    "    # voice=\"nova\",\n",
    "    voice=\"echo\",\n",
    "    input=creator_statement,\n",
    "  )\n",
    "  response.stream_to_file(\"Echo_Answer.mp3\")\n",
    "  play_audio(\"Echo_Answer.mp3\")\n",
    "  learner = client.chat.completions.create(\n",
    "    model=\"gpt-4o-mini\",\n",
    "    messages=[\n",
    "      {\"role\": \"system\", \"content\": \"You are a lingust who is language enthusiast and tries to learn new languages .\"},\n",
    "      {\"role\": \"user\", \"content\": f\"\"\"\n",
    "      AI agent 1 previously said {creator_statement}. Try to be smart and understand what it is saying. try to communicate and answer and make statement in the language of AI agent 1.\n",
    "      Remember you don't know Shahabian so you should just guess and try to learn it by guessing. Just make one statement and try to learn from your chat history.\n",
    "      Don't repeat the same statement. Try to learn and build new statement.\n",
    "      \"\"\"}\n",
    "    ]\n",
    "  )\n",
    "  learner_statement = learner.choices[0].message.content\n",
    "  print(learner_statement)\n",
    "  with open(file_path, \"a\") as file:\n",
    "    file.write(\"\\nAI Agent 2: \" + learner_statement + \"\\n\\n\")\n",
    "  response = client.audio.speech.create(\n",
    "    model=\"tts-1\",\n",
    "    voice=\"nova\",\n",
    "    # voice=\"echo\",\n",
    "    input=learner_statement,\n",
    "  )\n",
    "  response.stream_to_file(\"Nova_Answer.mp3\")\n",
    "  play_audio(\"Nova_Answer.mp3\")"
   ]
  }
 ],
 "metadata": {
  "kernelspec": {
   "display_name": "Python 3",
   "language": "python",
   "name": "python3"
  },
  "language_info": {
   "codemirror_mode": {
    "name": "ipython",
    "version": 3
   },
   "file_extension": ".py",
   "mimetype": "text/x-python",
   "name": "python",
   "nbconvert_exporter": "python",
   "pygments_lexer": "ipython3",
   "version": "3.11.6"
  }
 },
 "nbformat": 4,
 "nbformat_minor": 2
}
