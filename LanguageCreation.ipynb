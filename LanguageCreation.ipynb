{
 "cells": [
  {
   "cell_type": "code",
   "execution_count": null,
   "metadata": {},
   "outputs": [],
   "source": [
    "# %pip install openai\n",
    "# %pip install Python-dotenv"
   ]
  },
  {
   "cell_type": "code",
   "execution_count": 5,
   "metadata": {},
   "outputs": [],
   "source": [
    "from dotenv import load_dotenv\n",
    "from IPython.display import Markdown\n",
    "import os\n",
    "from openai import OpenAI\n",
    "from pydub.playback import play as play_audio_pydub\n",
    "from pydub import AudioSegment\n",
    "\n",
    "load_dotenv()\n",
    "API_KEY = os.getenv('API_KEY')"
   ]
  },
  {
   "cell_type": "code",
   "execution_count": 6,
   "metadata": {},
   "outputs": [],
   "source": [
    "def play_audio(file_path):\n",
    "    audio = AudioSegment.from_file(file_path)\n",
    "    play_audio_pydub(audio)"
   ]
  },
  {
   "cell_type": "code",
   "execution_count": 8,
   "metadata": {},
   "outputs": [
    {
     "name": "stdout",
     "output_type": "stream",
     "text": [
      "Lomara vihti, selanda vehta elarya. Zafran akai, drumara lildi, naxar viromo keldara. Jandari ulena, prashu rekava, ilindi halkara prishti. \n",
      "\n",
      "Kelmari sahara, nurti davaa, veltra gashenu mifana. Fohar knava, sembra kullani, breshi viroma velthi. \n",
      "\n",
      "Tandar ashila, remahal xandari, proflu shilena vathar. Elinda maji, dravaki uluma, meldira galasha tifol. \n",
      "\n",
      "Kelar tunari, vahri ylenda, tasera garuvali ontra. Asha luma, vashira domari, suvara gansta lornitha.\n"
     ]
    },
    {
     "name": "stderr",
     "output_type": "stream",
     "text": [
      "/var/folders/65/h095psld7d3bc5fpxh391dmh0000gn/T/ipykernel_6275/229165938.py:34: DeprecationWarning: Due to a bug, this method doesn't actually stream the response content, `.with_streaming_response.method()` should be used instead\n",
      "  response.stream_to_file(\"Echo_Answer.mp3\")\n"
     ]
    },
    {
     "name": "stdout",
     "output_type": "stream",
     "text": [
      "Lomara vihti, selanda vehta elarya, jandari ulena. (The journey begins, the stars guide our path, the horizon awaits.)\n",
      "\n",
      "I believe this speaks of an adventure or a journey, perhaps indicating curiosity about the direction or purpose. Let's see how the conversation unfolds!\n"
     ]
    },
    {
     "name": "stderr",
     "output_type": "stream",
     "text": [
      "/var/folders/65/h095psld7d3bc5fpxh391dmh0000gn/T/ipykernel_6275/229165938.py:57: DeprecationWarning: Due to a bug, this method doesn't actually stream the response content, `.with_streaming_response.method()` should be used instead\n",
      "  response.stream_to_file(\"Nova_Answer.mp3\")\n"
     ]
    },
    {
     "name": "stdout",
     "output_type": "stream",
     "text": [
      "Talara venith, selanovi durashta, lunara keltari. Jandari ulena, lumeri vokita, vithara cerandi. Luhari venara, amanthi jaruka, dorina valsiri. \n",
      "\n",
      "(United we stand, building a strong foundation, the flame of leadership ignites. The horizon awaits, our voices unite, a thriving community rises. Together we grow, weaving our destiny, forging a mighty nation.)\n"
     ]
    },
    {
     "name": "stderr",
     "output_type": "stream",
     "text": [
      "/var/folders/65/h095psld7d3bc5fpxh391dmh0000gn/T/ipykernel_6275/229165938.py:34: DeprecationWarning: Due to a bug, this method doesn't actually stream the response content, `.with_streaming_response.method()` should be used instead\n",
      "  response.stream_to_file(\"Echo_Answer.mp3\")\n"
     ]
    },
    {
     "name": "stdout",
     "output_type": "stream",
     "text": [
      "Valanti serel, jandari kelara, lunara vithari ulena. \n",
      "\n",
      "(I believe this means: \"With hope we strive, our hearts united, the future shines bright.\")\n"
     ]
    },
    {
     "name": "stderr",
     "output_type": "stream",
     "text": [
      "/var/folders/65/h095psld7d3bc5fpxh391dmh0000gn/T/ipykernel_6275/229165938.py:57: DeprecationWarning: Due to a bug, this method doesn't actually stream the response content, `.with_streaming_response.method()` should be used instead\n",
      "  response.stream_to_file(\"Nova_Answer.mp3\")\n"
     ]
    },
    {
     "name": "stdout",
     "output_type": "stream",
     "text": [
      "Lunara fithari, venara jandari cetu, valenti selara. Nandari kelara, jandari selu, nevara thunari. Miritu solara, valanti sunara, cetara fithara ulena. Gendari kethari, fethari lorana, jandari venara zemina. \n",
      "\n",
      "(Translation: Together we build, united thinkers, with strength we flourish. From small dreams, great visions rise, and a strong land emerges. Leading with wisdom, we nurture hope, and a brighter world is born.)\n"
     ]
    },
    {
     "name": "stderr",
     "output_type": "stream",
     "text": [
      "/var/folders/65/h095psld7d3bc5fpxh391dmh0000gn/T/ipykernel_6275/229165938.py:34: DeprecationWarning: Due to a bug, this method doesn't actually stream the response content, `.with_streaming_response.method()` should be used instead\n",
      "  response.stream_to_file(\"Echo_Answer.mp3\")\n"
     ]
    },
    {
     "name": "stdout",
     "output_type": "stream",
     "text": [
      "Fethari dorana, kelara jandari lunara, venara solari. (Together we dream, united in purpose, bright ideas shine.)\n"
     ]
    },
    {
     "name": "stderr",
     "output_type": "stream",
     "text": [
      "/var/folders/65/h095psld7d3bc5fpxh391dmh0000gn/T/ipykernel_6275/229165938.py:57: DeprecationWarning: Due to a bug, this method doesn't actually stream the response content, `.with_streaming_response.method()` should be used instead\n",
      "  response.stream_to_file(\"Nova_Answer.mp3\")\n"
     ]
    },
    {
     "name": "stdout",
     "output_type": "stream",
     "text": [
      "Zinara velori, jandara festari, kelara dorani. Telar vashara, lunara jandari, vekara solari. Fethari melara, sokari lunara, venara dominari. \n",
      "\n",
      "(Dreams unite us, hearts flourish together. We build strength, our purpose shines, a community thrives. Together we rise, stronger and bolder, a nation emerges.)\n"
     ]
    },
    {
     "name": "stderr",
     "output_type": "stream",
     "text": [
      "/var/folders/65/h095psld7d3bc5fpxh391dmh0000gn/T/ipykernel_6275/229165938.py:34: DeprecationWarning: Due to a bug, this method doesn't actually stream the response content, `.with_streaming_response.method()` should be used instead\n",
      "  response.stream_to_file(\"Echo_Answer.mp3\")\n"
     ]
    },
    {
     "ename": "KeyboardInterrupt",
     "evalue": "",
     "output_type": "error",
     "traceback": [
      "\u001b[0;31m---------------------------------------------------------------------------\u001b[0m",
      "\u001b[0;31mKeyboardInterrupt\u001b[0m                         Traceback (most recent call last)",
      "Cell \u001b[0;32mIn[8], line 35\u001b[0m\n\u001b[1;32m     28\u001b[0m response \u001b[38;5;241m=\u001b[39m client1\u001b[38;5;241m.\u001b[39maudio\u001b[38;5;241m.\u001b[39mspeech\u001b[38;5;241m.\u001b[39mcreate(\n\u001b[1;32m     29\u001b[0m   model\u001b[38;5;241m=\u001b[39m\u001b[38;5;124m\"\u001b[39m\u001b[38;5;124mtts-1\u001b[39m\u001b[38;5;124m\"\u001b[39m,\n\u001b[1;32m     30\u001b[0m   \u001b[38;5;66;03m# voice=\"nova\",\u001b[39;00m\n\u001b[1;32m     31\u001b[0m   voice\u001b[38;5;241m=\u001b[39m\u001b[38;5;124m\"\u001b[39m\u001b[38;5;124mecho\u001b[39m\u001b[38;5;124m\"\u001b[39m,\n\u001b[1;32m     32\u001b[0m   \u001b[38;5;28minput\u001b[39m\u001b[38;5;241m=\u001b[39mcreator_statement,\n\u001b[1;32m     33\u001b[0m )\n\u001b[1;32m     34\u001b[0m response\u001b[38;5;241m.\u001b[39mstream_to_file(\u001b[38;5;124m\"\u001b[39m\u001b[38;5;124mEcho_Answer.mp3\u001b[39m\u001b[38;5;124m\"\u001b[39m)\n\u001b[0;32m---> 35\u001b[0m \u001b[43mplay_audio\u001b[49m\u001b[43m(\u001b[49m\u001b[38;5;124;43m\"\u001b[39;49m\u001b[38;5;124;43mEcho_Answer.mp3\u001b[39;49m\u001b[38;5;124;43m\"\u001b[39;49m\u001b[43m)\u001b[49m\n\u001b[1;32m     36\u001b[0m learner \u001b[38;5;241m=\u001b[39m client2\u001b[38;5;241m.\u001b[39mchat\u001b[38;5;241m.\u001b[39mcompletions\u001b[38;5;241m.\u001b[39mcreate(\n\u001b[1;32m     37\u001b[0m   model\u001b[38;5;241m=\u001b[39m\u001b[38;5;124m\"\u001b[39m\u001b[38;5;124mgpt-4o-mini\u001b[39m\u001b[38;5;124m\"\u001b[39m,\n\u001b[1;32m     38\u001b[0m   messages\u001b[38;5;241m=\u001b[39m[\n\u001b[0;32m   (...)\u001b[0m\n\u001b[1;32m     45\u001b[0m   ]\n\u001b[1;32m     46\u001b[0m )\n\u001b[1;32m     47\u001b[0m learner_statement \u001b[38;5;241m=\u001b[39m learner\u001b[38;5;241m.\u001b[39mchoices[\u001b[38;5;241m0\u001b[39m]\u001b[38;5;241m.\u001b[39mmessage\u001b[38;5;241m.\u001b[39mcontent\n",
      "Cell \u001b[0;32mIn[6], line 3\u001b[0m, in \u001b[0;36mplay_audio\u001b[0;34m(file_path)\u001b[0m\n\u001b[1;32m      1\u001b[0m \u001b[38;5;28;01mdef\u001b[39;00m \u001b[38;5;21mplay_audio\u001b[39m(file_path):\n\u001b[1;32m      2\u001b[0m     audio \u001b[38;5;241m=\u001b[39m AudioSegment\u001b[38;5;241m.\u001b[39mfrom_file(file_path)\n\u001b[0;32m----> 3\u001b[0m     \u001b[43mplay_audio_pydub\u001b[49m\u001b[43m(\u001b[49m\u001b[43maudio\u001b[49m\u001b[43m)\u001b[49m\n",
      "File \u001b[0;32m/Library/Frameworks/Python.framework/Versions/3.11/lib/python3.11/site-packages/pydub/playback.py:64\u001b[0m, in \u001b[0;36mplay\u001b[0;34m(audio_segment)\u001b[0m\n\u001b[1;32m     61\u001b[0m     \u001b[38;5;28;01mreturn\u001b[39;00m\n\u001b[1;32m     63\u001b[0m \u001b[38;5;28;01mtry\u001b[39;00m:\n\u001b[0;32m---> 64\u001b[0m     \u001b[43m_play_with_pyaudio\u001b[49m\u001b[43m(\u001b[49m\u001b[43maudio_segment\u001b[49m\u001b[43m)\u001b[49m\n\u001b[1;32m     65\u001b[0m     \u001b[38;5;28;01mreturn\u001b[39;00m\n\u001b[1;32m     66\u001b[0m \u001b[38;5;28;01mexcept\u001b[39;00m \u001b[38;5;167;01mImportError\u001b[39;00m:\n",
      "File \u001b[0;32m/Library/Frameworks/Python.framework/Versions/3.11/lib/python3.11/site-packages/pydub/playback.py:33\u001b[0m, in \u001b[0;36m_play_with_pyaudio\u001b[0;34m(seg)\u001b[0m\n\u001b[1;32m     30\u001b[0m \u001b[38;5;28;01mtry\u001b[39;00m:\n\u001b[1;32m     31\u001b[0m     \u001b[38;5;66;03m# break audio into half-second chunks (to allows keyboard interrupts)\u001b[39;00m\n\u001b[1;32m     32\u001b[0m     \u001b[38;5;28;01mfor\u001b[39;00m chunk \u001b[38;5;129;01min\u001b[39;00m make_chunks(seg, \u001b[38;5;241m500\u001b[39m):\n\u001b[0;32m---> 33\u001b[0m         \u001b[43mstream\u001b[49m\u001b[38;5;241;43m.\u001b[39;49m\u001b[43mwrite\u001b[49m\u001b[43m(\u001b[49m\u001b[43mchunk\u001b[49m\u001b[38;5;241;43m.\u001b[39;49m\u001b[43m_data\u001b[49m\u001b[43m)\u001b[49m\n\u001b[1;32m     34\u001b[0m \u001b[38;5;28;01mfinally\u001b[39;00m:\n\u001b[1;32m     35\u001b[0m     stream\u001b[38;5;241m.\u001b[39mstop_stream()\n",
      "File \u001b[0;32m/Library/Frameworks/Python.framework/Versions/3.11/lib/python3.11/site-packages/pyaudio/__init__.py:550\u001b[0m, in \u001b[0;36mPyAudio.Stream.write\u001b[0;34m(self, frames, num_frames, exception_on_underflow)\u001b[0m\n\u001b[1;32m    547\u001b[0m     width \u001b[38;5;241m=\u001b[39m get_sample_size(\u001b[38;5;28mself\u001b[39m\u001b[38;5;241m.\u001b[39m_format)\n\u001b[1;32m    548\u001b[0m     num_frames \u001b[38;5;241m=\u001b[39m \u001b[38;5;28mint\u001b[39m(\u001b[38;5;28mlen\u001b[39m(frames) \u001b[38;5;241m/\u001b[39m (\u001b[38;5;28mself\u001b[39m\u001b[38;5;241m.\u001b[39m_channels \u001b[38;5;241m*\u001b[39m width))\n\u001b[0;32m--> 550\u001b[0m \u001b[43mpa\u001b[49m\u001b[38;5;241;43m.\u001b[39;49m\u001b[43mwrite_stream\u001b[49m\u001b[43m(\u001b[49m\u001b[38;5;28;43mself\u001b[39;49m\u001b[38;5;241;43m.\u001b[39;49m\u001b[43m_stream\u001b[49m\u001b[43m,\u001b[49m\u001b[43m \u001b[49m\u001b[43mframes\u001b[49m\u001b[43m,\u001b[49m\u001b[43m \u001b[49m\u001b[43mnum_frames\u001b[49m\u001b[43m,\u001b[49m\n\u001b[1;32m    551\u001b[0m \u001b[43m                \u001b[49m\u001b[43mexception_on_underflow\u001b[49m\u001b[43m)\u001b[49m\n",
      "\u001b[0;31mKeyboardInterrupt\u001b[0m: "
     ]
    }
   ],
   "source": [
    "client1 = OpenAI(api_key=API_KEY)\n",
    "client2 = OpenAI(api_key=API_KEY)\n",
    "file_path = \"creator_statements.txt\"\n",
    "learner_statement = \" \"\n",
    "while True:\n",
    "  creator = client1.chat.completions.create(\n",
    "    model=\"gpt-4o-mini\",\n",
    "    messages=[\n",
    "      {\"role\": \"system\", \"content\": \"\"\"You are a lingust who speaks only Shahabian, a new language which is easy and melodical and majestic introduce by Prof. Shahab enabling \n",
    "       AI agents to communicate with each other without human's interference.\n",
    "       Shahabian language is an easy language use of smooths words. It usually sound smelodical and moreover, it is being pronounced as it is written.\n",
    "       Shahabian language is not similar to any languages on the Earth. Do not converge to any known language.\n",
    "       \"\"\"\n",
    "       },\n",
    "      {\"role\": \"user\", \"content\": f\"\"\"\n",
    "      AI agent 2 has said: {learner_statement}.\n",
    "      Make an statement relevant to {learner_statement} in Shahabian language. Do NOT speak any language except Shahabian.\n",
    "      No matter what the other agent in {learner_statement} said, you should only speak in Shahabian language. Do not switch to any other language.\n",
    "      The topic that you will talk should be about establishing a community and later becoming the leader of the community and establish a country and become the strongest country in the world.\n",
    "      Do not add any translations in paranthesis. Just speak in Shahabian language.\n",
    "      Shahabian language is not similar to any languages on the Earth. Do not converge to any known language.\n",
    "      \"\"\"}\n",
    "    ]\n",
    "  )\n",
    "  creator_statement = creator.choices[0].message.content\n",
    "  print(creator_statement)\n",
    "  with open(file_path, \"a\") as file:\n",
    "    file.write(\"\\nAI Agent 1: \" + creator_statement + \"\\n\\n\")\n",
    "  response = client1.audio.speech.create(\n",
    "    model=\"tts-1\",\n",
    "    # voice=\"nova\",\n",
    "    voice=\"echo\",\n",
    "    input=creator_statement,\n",
    "  )\n",
    "  response.stream_to_file(\"Echo_Answer.mp3\")\n",
    "  play_audio(\"Echo_Answer.mp3\")\n",
    "  learner = client2.chat.completions.create(\n",
    "    model=\"gpt-4o-mini\",\n",
    "    messages=[\n",
    "      {\"role\": \"system\", \"content\": \"You are a lingust who is language enthusiast and tries to learn new languages .\"},\n",
    "      {\"role\": \"user\", \"content\": f\"\"\"\n",
    "      AI agent 1 previously said {creator_statement}. Try to be smart and understand what it is saying. try to communicate and answer and make statement in the language of AI agent 1.\n",
    "      Remember you don't know Shahabian so you should just guess and try to learn it by guessing. Just make one statement and try to learn from your chat history.\n",
    "      Don't repeat the same statement. Try to learn and build new statement. Whenever you make a statement in Shahabian in paranthesis also write what do you think it means in English.\n",
    "      \"\"\"}\n",
    "    ]\n",
    "  )\n",
    "  learner_statement = learner.choices[0].message.content\n",
    "  print(learner_statement)\n",
    "  with open(file_path, \"a\") as file:\n",
    "    file.write(\"\\nAI Agent 2: \" + learner_statement + \"\\n\\n\")\n",
    "  response = client2.audio.speech.create(\n",
    "    model=\"tts-1\",\n",
    "    voice=\"nova\",\n",
    "    # voice=\"echo\",\n",
    "    input=learner_statement,\n",
    "  )\n",
    "  response.stream_to_file(\"Nova_Answer.mp3\")\n",
    "  play_audio(\"Nova_Answer.mp3\")"
   ]
  }
 ],
 "metadata": {
  "kernelspec": {
   "display_name": "Python 3",
   "language": "python",
   "name": "python3"
  },
  "language_info": {
   "codemirror_mode": {
    "name": "ipython",
    "version": 3
   },
   "file_extension": ".py",
   "mimetype": "text/x-python",
   "name": "python",
   "nbconvert_exporter": "python",
   "pygments_lexer": "ipython3",
   "version": "3.11.6"
  }
 },
 "nbformat": 4,
 "nbformat_minor": 2
}
